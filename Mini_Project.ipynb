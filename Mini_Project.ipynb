{
  "nbformat": 4,
  "nbformat_minor": 0,
  "metadata": {
    "kernelspec": {
      "display_name": "Python 3",
      "language": "python",
      "name": "python3"
    },
    "language_info": {
      "codemirror_mode": {
        "name": "ipython",
        "version": 3
      },
      "file_extension": ".py",
      "mimetype": "text/x-python",
      "name": "python",
      "nbconvert_exporter": "python",
      "pygments_lexer": "ipython3",
      "version": "3.7.6"
    },
    "colab": {
      "name": "Mini Project.ipynb",
      "provenance": [],
      "toc_visible": true,
      "include_colab_link": true
    }
  },
  "cells": [
    {
      "cell_type": "markdown",
      "metadata": {
        "id": "view-in-github",
        "colab_type": "text"
      },
      "source": [
        "<a href=\"https://colab.research.google.com/github/Sangeetha963/Mammogram-Classification/blob/main/Mini_Project.ipynb\" target=\"_parent\"><img src=\"https://colab.research.google.com/assets/colab-badge.svg\" alt=\"Open In Colab\"/></a>"
      ]
    },
    {
      "cell_type": "markdown",
      "metadata": {
        "id": "c7ajLf7DbuJD"
      },
      "source": [
        "# Final Project"
      ]
    },
    {
      "cell_type": "markdown",
      "metadata": {
        "id": "8rYj2bMubuJJ"
      },
      "source": [
        "# Predict whether a mammogram mass is benign or malignant"
      ]
    },
    {
      "cell_type": "markdown",
      "metadata": {
        "id": "md47ByRYbuJL"
      },
      "source": [
        "We'll be using the \"mammographic masses\" public dataset from the UCI repository (source: https://archive.ics.uci.edu/ml/datasets/Mammographic+Mass)\n",
        "\n",
        "This data contains 961 instances of masses detected in mammograms, and contains the following attributes:"
      ]
    },
    {
      "cell_type": "markdown",
      "metadata": {
        "id": "6X656W4NbuJM"
      },
      "source": [
        "1.BI-RADS assessment: 1 to 5 (ordinal)"
      ]
    },
    {
      "cell_type": "markdown",
      "metadata": {
        "id": "5ni3BRkobuJN"
      },
      "source": [
        "2.Age: patient's age in years (integer) "
      ]
    },
    {
      "cell_type": "markdown",
      "metadata": {
        "id": "rbMGztuRbuJO"
      },
      "source": [
        "3.Shape: mass shape: round=1 oval=2 lobular=3 irregular=4 (nominal) "
      ]
    },
    {
      "cell_type": "markdown",
      "metadata": {
        "id": "1lcRgkL2buJQ"
      },
      "source": [
        "4.Margin: mass margin: circumscribed=1 microlobulated=2 obscured=3 ill-defined=4 spiculated=5 (nominal)"
      ]
    },
    {
      "cell_type": "markdown",
      "metadata": {
        "id": "0gEusKqubuJS"
      },
      "source": [
        "5.Density: mass density high=1 iso=2 low=3 fat-containing=4 (ordinal) 6.Severity: benign=0 or malignant=1 (binominal)"
      ]
    },
    {
      "cell_type": "markdown",
      "metadata": {
        "id": "pIFWr60IbuJT"
      },
      "source": [
        "BI-RADS is an assesment of how confident the severity classification is; it is not a \"predictive\" attribute and so we will discard it. The age, shape, margin, and density attributes are the features that we will build our model with, and \"severity\" is the classification we will attempt to predict based on those attributes.\n",
        "\n",
        "Although \"shape\" and \"margin\" are nominal data types, which sklearn typically doesn't deal with well, they are close enough to ordinal that we shouldn't just discard them. The \"shape\" for example is ordered increasingly from round to irregular.\n",
        "\n",
        "A lot of unnecessary anguish and surgery arises from false positives arising from mammogram results. If we can build a better way to interpret them through supervised machine learning, it could improve a lot of lives."
      ]
    },
    {
      "cell_type": "markdown",
      "metadata": {
        "id": "e27PAdcobuJV"
      },
      "source": [
        "# Myassignment"
      ]
    },
    {
      "cell_type": "markdown",
      "metadata": {
        "id": "3FlGJW6ZbuJW"
      },
      "source": [
        "Apply several different supervised machine learning techniques to this data set, and see which one yields the highest accuracy as measured with K-Fold cross validation (K=10). Apply:"
      ]
    },
    {
      "cell_type": "markdown",
      "metadata": {
        "id": "1sk9Vf7wbuJW"
      },
      "source": [
        "1.Decision tree"
      ]
    },
    {
      "cell_type": "markdown",
      "metadata": {
        "id": "HYc02PoZbuJX"
      },
      "source": [
        "2.Random forest"
      ]
    },
    {
      "cell_type": "markdown",
      "metadata": {
        "id": "lb6qOJ60buJY"
      },
      "source": [
        "3.KNN"
      ]
    },
    {
      "cell_type": "markdown",
      "metadata": {
        "id": "xhFfxnB-buJY"
      },
      "source": [
        "4.Naive Bayes"
      ]
    },
    {
      "cell_type": "markdown",
      "metadata": {
        "id": "mFUKEKc0buJZ"
      },
      "source": [
        "5.SVM"
      ]
    },
    {
      "cell_type": "markdown",
      "metadata": {
        "id": "GWmAsnG6buJZ"
      },
      "source": [
        "6.Logistic Regression"
      ]
    },
    {
      "cell_type": "markdown",
      "metadata": {
        "id": "smFeaJXmbuJZ"
      },
      "source": [
        "7.A neural network using Keras."
      ]
    },
    {
      "cell_type": "markdown",
      "metadata": {
        "id": "8642AlZwbuJa"
      },
      "source": [
        "The data needs to be cleaned; many rows contain missing data, and there may be erroneous data identifiable as outliers as well.\n",
        "\n",
        "Remember some techniques such as SVM also require the input data to be normalized first.\n",
        "\n",
        "Many techniques also have \"hyperparameters\" that need to be tuned. Once you identify a promising approach, see if you can make it even better by tuning its hyperparameters."
      ]
    },
    {
      "cell_type": "markdown",
      "metadata": {
        "id": "YamXS22AbuJb"
      },
      "source": [
        "# Let's begin: prepare your data"
      ]
    },
    {
      "cell_type": "markdown",
      "metadata": {
        "id": "BRM269jsbuJc"
      },
      "source": [
        "Start by importing the mammographic_masses.data.txt file into a Pandas dataframe (hint: use read_csv) and take a look at it."
      ]
    },
    {
      "cell_type": "code",
      "metadata": {
        "colab": {
          "base_uri": "https://localhost:8080/",
          "height": 425
        },
        "id": "GQD6oTvjbuJd",
        "outputId": "8b2e52ab-5944-4315-f762-d3337abf76b4"
      },
      "source": [
        "import pandas as pd\n",
        "\n",
        "masses_data = pd.read_csv('mammographic_masses.data.txt')\n",
        "masses_data.head()"
      ],
      "execution_count": null,
      "outputs": [
        {
          "output_type": "error",
          "ename": "FileNotFoundError",
          "evalue": "ignored",
          "traceback": [
            "\u001b[0;31m---------------------------------------------------------------------------\u001b[0m",
            "\u001b[0;31mFileNotFoundError\u001b[0m                         Traceback (most recent call last)",
            "\u001b[0;32m<ipython-input-1-0cbac29e8ba3>\u001b[0m in \u001b[0;36m<module>\u001b[0;34m()\u001b[0m\n\u001b[1;32m      1\u001b[0m \u001b[0;32mimport\u001b[0m \u001b[0mpandas\u001b[0m \u001b[0;32mas\u001b[0m \u001b[0mpd\u001b[0m\u001b[0;34m\u001b[0m\u001b[0;34m\u001b[0m\u001b[0m\n\u001b[1;32m      2\u001b[0m \u001b[0;34m\u001b[0m\u001b[0m\n\u001b[0;32m----> 3\u001b[0;31m \u001b[0mmasses_data\u001b[0m \u001b[0;34m=\u001b[0m \u001b[0mpd\u001b[0m\u001b[0;34m.\u001b[0m\u001b[0mread_csv\u001b[0m\u001b[0;34m(\u001b[0m\u001b[0;34m'mammographic_masses.data.txt'\u001b[0m\u001b[0;34m)\u001b[0m\u001b[0;34m\u001b[0m\u001b[0;34m\u001b[0m\u001b[0m\n\u001b[0m\u001b[1;32m      4\u001b[0m \u001b[0mmasses_data\u001b[0m\u001b[0;34m.\u001b[0m\u001b[0mhead\u001b[0m\u001b[0;34m(\u001b[0m\u001b[0;34m)\u001b[0m\u001b[0;34m\u001b[0m\u001b[0;34m\u001b[0m\u001b[0m\n",
            "\u001b[0;32m/usr/local/lib/python3.7/dist-packages/pandas/io/parsers.py\u001b[0m in \u001b[0;36mread_csv\u001b[0;34m(filepath_or_buffer, sep, delimiter, header, names, index_col, usecols, squeeze, prefix, mangle_dupe_cols, dtype, engine, converters, true_values, false_values, skipinitialspace, skiprows, skipfooter, nrows, na_values, keep_default_na, na_filter, verbose, skip_blank_lines, parse_dates, infer_datetime_format, keep_date_col, date_parser, dayfirst, cache_dates, iterator, chunksize, compression, thousands, decimal, lineterminator, quotechar, quoting, doublequote, escapechar, comment, encoding, dialect, error_bad_lines, warn_bad_lines, delim_whitespace, low_memory, memory_map, float_precision)\u001b[0m\n\u001b[1;32m    686\u001b[0m     )\n\u001b[1;32m    687\u001b[0m \u001b[0;34m\u001b[0m\u001b[0m\n\u001b[0;32m--> 688\u001b[0;31m     \u001b[0;32mreturn\u001b[0m \u001b[0m_read\u001b[0m\u001b[0;34m(\u001b[0m\u001b[0mfilepath_or_buffer\u001b[0m\u001b[0;34m,\u001b[0m \u001b[0mkwds\u001b[0m\u001b[0;34m)\u001b[0m\u001b[0;34m\u001b[0m\u001b[0;34m\u001b[0m\u001b[0m\n\u001b[0m\u001b[1;32m    689\u001b[0m \u001b[0;34m\u001b[0m\u001b[0m\n\u001b[1;32m    690\u001b[0m \u001b[0;34m\u001b[0m\u001b[0m\n",
            "\u001b[0;32m/usr/local/lib/python3.7/dist-packages/pandas/io/parsers.py\u001b[0m in \u001b[0;36m_read\u001b[0;34m(filepath_or_buffer, kwds)\u001b[0m\n\u001b[1;32m    452\u001b[0m \u001b[0;34m\u001b[0m\u001b[0m\n\u001b[1;32m    453\u001b[0m     \u001b[0;31m# Create the parser.\u001b[0m\u001b[0;34m\u001b[0m\u001b[0;34m\u001b[0m\u001b[0;34m\u001b[0m\u001b[0m\n\u001b[0;32m--> 454\u001b[0;31m     \u001b[0mparser\u001b[0m \u001b[0;34m=\u001b[0m \u001b[0mTextFileReader\u001b[0m\u001b[0;34m(\u001b[0m\u001b[0mfp_or_buf\u001b[0m\u001b[0;34m,\u001b[0m \u001b[0;34m**\u001b[0m\u001b[0mkwds\u001b[0m\u001b[0;34m)\u001b[0m\u001b[0;34m\u001b[0m\u001b[0;34m\u001b[0m\u001b[0m\n\u001b[0m\u001b[1;32m    455\u001b[0m \u001b[0;34m\u001b[0m\u001b[0m\n\u001b[1;32m    456\u001b[0m     \u001b[0;32mif\u001b[0m \u001b[0mchunksize\u001b[0m \u001b[0;32mor\u001b[0m \u001b[0miterator\u001b[0m\u001b[0;34m:\u001b[0m\u001b[0;34m\u001b[0m\u001b[0;34m\u001b[0m\u001b[0m\n",
            "\u001b[0;32m/usr/local/lib/python3.7/dist-packages/pandas/io/parsers.py\u001b[0m in \u001b[0;36m__init__\u001b[0;34m(self, f, engine, **kwds)\u001b[0m\n\u001b[1;32m    946\u001b[0m             \u001b[0mself\u001b[0m\u001b[0;34m.\u001b[0m\u001b[0moptions\u001b[0m\u001b[0;34m[\u001b[0m\u001b[0;34m\"has_index_names\"\u001b[0m\u001b[0;34m]\u001b[0m \u001b[0;34m=\u001b[0m \u001b[0mkwds\u001b[0m\u001b[0;34m[\u001b[0m\u001b[0;34m\"has_index_names\"\u001b[0m\u001b[0;34m]\u001b[0m\u001b[0;34m\u001b[0m\u001b[0;34m\u001b[0m\u001b[0m\n\u001b[1;32m    947\u001b[0m \u001b[0;34m\u001b[0m\u001b[0m\n\u001b[0;32m--> 948\u001b[0;31m         \u001b[0mself\u001b[0m\u001b[0;34m.\u001b[0m\u001b[0m_make_engine\u001b[0m\u001b[0;34m(\u001b[0m\u001b[0mself\u001b[0m\u001b[0;34m.\u001b[0m\u001b[0mengine\u001b[0m\u001b[0;34m)\u001b[0m\u001b[0;34m\u001b[0m\u001b[0;34m\u001b[0m\u001b[0m\n\u001b[0m\u001b[1;32m    949\u001b[0m \u001b[0;34m\u001b[0m\u001b[0m\n\u001b[1;32m    950\u001b[0m     \u001b[0;32mdef\u001b[0m \u001b[0mclose\u001b[0m\u001b[0;34m(\u001b[0m\u001b[0mself\u001b[0m\u001b[0;34m)\u001b[0m\u001b[0;34m:\u001b[0m\u001b[0;34m\u001b[0m\u001b[0;34m\u001b[0m\u001b[0m\n",
            "\u001b[0;32m/usr/local/lib/python3.7/dist-packages/pandas/io/parsers.py\u001b[0m in \u001b[0;36m_make_engine\u001b[0;34m(self, engine)\u001b[0m\n\u001b[1;32m   1178\u001b[0m     \u001b[0;32mdef\u001b[0m \u001b[0m_make_engine\u001b[0m\u001b[0;34m(\u001b[0m\u001b[0mself\u001b[0m\u001b[0;34m,\u001b[0m \u001b[0mengine\u001b[0m\u001b[0;34m=\u001b[0m\u001b[0;34m\"c\"\u001b[0m\u001b[0;34m)\u001b[0m\u001b[0;34m:\u001b[0m\u001b[0;34m\u001b[0m\u001b[0;34m\u001b[0m\u001b[0m\n\u001b[1;32m   1179\u001b[0m         \u001b[0;32mif\u001b[0m \u001b[0mengine\u001b[0m \u001b[0;34m==\u001b[0m \u001b[0;34m\"c\"\u001b[0m\u001b[0;34m:\u001b[0m\u001b[0;34m\u001b[0m\u001b[0;34m\u001b[0m\u001b[0m\n\u001b[0;32m-> 1180\u001b[0;31m             \u001b[0mself\u001b[0m\u001b[0;34m.\u001b[0m\u001b[0m_engine\u001b[0m \u001b[0;34m=\u001b[0m \u001b[0mCParserWrapper\u001b[0m\u001b[0;34m(\u001b[0m\u001b[0mself\u001b[0m\u001b[0;34m.\u001b[0m\u001b[0mf\u001b[0m\u001b[0;34m,\u001b[0m \u001b[0;34m**\u001b[0m\u001b[0mself\u001b[0m\u001b[0;34m.\u001b[0m\u001b[0moptions\u001b[0m\u001b[0;34m)\u001b[0m\u001b[0;34m\u001b[0m\u001b[0;34m\u001b[0m\u001b[0m\n\u001b[0m\u001b[1;32m   1181\u001b[0m         \u001b[0;32melse\u001b[0m\u001b[0;34m:\u001b[0m\u001b[0;34m\u001b[0m\u001b[0;34m\u001b[0m\u001b[0m\n\u001b[1;32m   1182\u001b[0m             \u001b[0;32mif\u001b[0m \u001b[0mengine\u001b[0m \u001b[0;34m==\u001b[0m \u001b[0;34m\"python\"\u001b[0m\u001b[0;34m:\u001b[0m\u001b[0;34m\u001b[0m\u001b[0;34m\u001b[0m\u001b[0m\n",
            "\u001b[0;32m/usr/local/lib/python3.7/dist-packages/pandas/io/parsers.py\u001b[0m in \u001b[0;36m__init__\u001b[0;34m(self, src, **kwds)\u001b[0m\n\u001b[1;32m   2008\u001b[0m         \u001b[0mkwds\u001b[0m\u001b[0;34m[\u001b[0m\u001b[0;34m\"usecols\"\u001b[0m\u001b[0;34m]\u001b[0m \u001b[0;34m=\u001b[0m \u001b[0mself\u001b[0m\u001b[0;34m.\u001b[0m\u001b[0musecols\u001b[0m\u001b[0;34m\u001b[0m\u001b[0;34m\u001b[0m\u001b[0m\n\u001b[1;32m   2009\u001b[0m \u001b[0;34m\u001b[0m\u001b[0m\n\u001b[0;32m-> 2010\u001b[0;31m         \u001b[0mself\u001b[0m\u001b[0;34m.\u001b[0m\u001b[0m_reader\u001b[0m \u001b[0;34m=\u001b[0m \u001b[0mparsers\u001b[0m\u001b[0;34m.\u001b[0m\u001b[0mTextReader\u001b[0m\u001b[0;34m(\u001b[0m\u001b[0msrc\u001b[0m\u001b[0;34m,\u001b[0m \u001b[0;34m**\u001b[0m\u001b[0mkwds\u001b[0m\u001b[0;34m)\u001b[0m\u001b[0;34m\u001b[0m\u001b[0;34m\u001b[0m\u001b[0m\n\u001b[0m\u001b[1;32m   2011\u001b[0m         \u001b[0mself\u001b[0m\u001b[0;34m.\u001b[0m\u001b[0munnamed_cols\u001b[0m \u001b[0;34m=\u001b[0m \u001b[0mself\u001b[0m\u001b[0;34m.\u001b[0m\u001b[0m_reader\u001b[0m\u001b[0;34m.\u001b[0m\u001b[0munnamed_cols\u001b[0m\u001b[0;34m\u001b[0m\u001b[0;34m\u001b[0m\u001b[0m\n\u001b[1;32m   2012\u001b[0m \u001b[0;34m\u001b[0m\u001b[0m\n",
            "\u001b[0;32mpandas/_libs/parsers.pyx\u001b[0m in \u001b[0;36mpandas._libs.parsers.TextReader.__cinit__\u001b[0;34m()\u001b[0m\n",
            "\u001b[0;32mpandas/_libs/parsers.pyx\u001b[0m in \u001b[0;36mpandas._libs.parsers.TextReader._setup_parser_source\u001b[0;34m()\u001b[0m\n",
            "\u001b[0;31mFileNotFoundError\u001b[0m: [Errno 2] No such file or directory: 'mammographic_masses.data.txt'"
          ]
        }
      ]
    },
    {
      "cell_type": "markdown",
      "metadata": {
        "id": "RMsv4KCqbuJg"
      },
      "source": [
        "Make sure you use the optional parmaters in read_csv to convert missing data (indicated by a ?) into NaN, and to add the appropriate column names (BI_RADS, age, shape, margin, density, and severity):"
      ]
    },
    {
      "cell_type": "code",
      "metadata": {
        "id": "wvcYZbtHbuJg"
      },
      "source": [
        "masses_data = pd.read_csv('mammographic_masses.data.txt', na_values=['?'], names = ['BI-RADS', 'age', 'shape', 'margin', 'density', 'severity'])\n",
        "masses_data.head()"
      ],
      "execution_count": null,
      "outputs": []
    },
    {
      "cell_type": "markdown",
      "metadata": {
        "id": "k90Pwi_qbuJh"
      },
      "source": [
        "Evaluate whether the data needs cleaning; your model is only as good as the data it's given. Hint: use describe() on the dataframe."
      ]
    },
    {
      "cell_type": "code",
      "metadata": {
        "id": "2PANv7qsbuJh"
      },
      "source": [
        "masses_data.describe()"
      ],
      "execution_count": null,
      "outputs": []
    },
    {
      "cell_type": "markdown",
      "metadata": {
        "id": "l6jG7Uu7buJi"
      },
      "source": [
        "There are quite a few missing values in the data set. Before we just drop every row that's missing data, let's make sure we don't bias our data in doing so. Does there appear to be any sort of correlation to what sort of data has missing fields? If there were, we'd have to try and go back and fill that data in."
      ]
    },
    {
      "cell_type": "code",
      "metadata": {
        "id": "flpWEu_tbuJi"
      },
      "source": [
        "masses_data.loc[(masses_data['age'].isnull()) |\n",
        "              (masses_data['shape'].isnull()) |\n",
        "              (masses_data['margin'].isnull()) |\n",
        "              (masses_data['density'].isnull())]"
      ],
      "execution_count": null,
      "outputs": []
    },
    {
      "cell_type": "markdown",
      "metadata": {
        "id": "1WnKg-kNbuJj"
      },
      "source": [
        "If the missing data seems randomly distributed, go ahead and drop rows with missing data. Hint: use dropna()."
      ]
    },
    {
      "cell_type": "code",
      "metadata": {
        "id": "yi8OMOocbuJj"
      },
      "source": [
        "masses_data.dropna(inplace=True)\n",
        "masses_data.describe()"
      ],
      "execution_count": null,
      "outputs": []
    },
    {
      "cell_type": "markdown",
      "metadata": {
        "id": "ejD_hKCPbuJk"
      },
      "source": [
        "Next you'll need to convert the Pandas dataframes into numpy arrays that can be used by scikit_learn. Create an array that extracts only the feature data we want to work with (age, shape, margin, and density) and another array that contains the classes (severity). You'll also need an array of the feature name labels."
      ]
    },
    {
      "cell_type": "code",
      "metadata": {
        "id": "D7ay94n7buJk"
      },
      "source": [
        "all_features = masses_data[['age', 'shape',\n",
        "                             'margin', 'density']].values\n",
        "\n",
        "\n",
        "all_classes = masses_data['severity'].values\n",
        "\n",
        "feature_names = ['age', 'shape', 'margin', 'density']\n",
        "\n",
        "all_features"
      ],
      "execution_count": null,
      "outputs": []
    },
    {
      "cell_type": "markdown",
      "metadata": {
        "id": "GZ-mIHycbuJl"
      },
      "source": [
        "Some of our models require the input data to be normalized, so go ahead and normalize the attribute data. Hint: use preprocessing.StandardScaler()."
      ]
    },
    {
      "cell_type": "code",
      "metadata": {
        "id": "heu0xsJ7buJm"
      },
      "source": [
        "from sklearn import preprocessing\n",
        "\n",
        "scaler = preprocessing.StandardScaler()\n",
        "all_features_scaled = scaler.fit_transform(all_features)\n",
        "all_features_scaled"
      ],
      "execution_count": null,
      "outputs": []
    },
    {
      "cell_type": "markdown",
      "metadata": {
        "id": "_2l7FbkgbuJn"
      },
      "source": [
        "# Decision Trees"
      ]
    },
    {
      "cell_type": "code",
      "metadata": {
        "id": "I_3ZY8TqbuJn"
      },
      "source": [
        "import numpy\n",
        "from sklearn.model_selection import train_test_split\n",
        "\n",
        "numpy.random.seed(1234)\n",
        "\n",
        "(training_inputs,\n",
        " testing_inputs,\n",
        " training_classes,\n",
        " testing_classes) = train_test_split(all_features_scaled, all_classes, train_size=0.75, random_state=1)"
      ],
      "execution_count": null,
      "outputs": []
    },
    {
      "cell_type": "markdown",
      "metadata": {
        "id": "lCRs2ez5buJo"
      },
      "source": [
        "Now create a DecisionTreeClassifier and fit it to your training data."
      ]
    },
    {
      "cell_type": "code",
      "metadata": {
        "id": "B01mplWpbuJo"
      },
      "source": [
        "from sklearn.tree import DecisionTreeClassifier\n",
        "\n",
        "clf= DecisionTreeClassifier(random_state=1)\n",
        "\n",
        "# Train the classifier on the training set\n",
        "clf.fit(training_inputs, training_classes)"
      ],
      "execution_count": null,
      "outputs": []
    },
    {
      "cell_type": "markdown",
      "metadata": {
        "id": "YGwGLzJFbuJp"
      },
      "source": [
        "Display the resulting decision tree."
      ]
    },
    {
      "cell_type": "code",
      "metadata": {
        "id": "itFMP8CLbuJp"
      },
      "source": [
        "from IPython.display import Image  \n",
        "from sklearn.externals.six import StringIO  \n",
        "from sklearn import tree\n",
        "from pydotplus import graph_from_dot_data \n",
        "\n",
        "dot_data = StringIO()  \n",
        "tree.export_graphviz(clf, out_file=dot_data,  \n",
        "                         feature_names=feature_names)  \n",
        "graph = graph_from_dot_data(dot_data.getvalue())  \n",
        "Image(graph.create_png())  "
      ],
      "execution_count": null,
      "outputs": []
    },
    {
      "cell_type": "markdown",
      "metadata": {
        "id": "uIK4QvXvbuJr"
      },
      "source": [
        "Measure the accuracy of the resulting decision tree model using your test data."
      ]
    },
    {
      "cell_type": "code",
      "metadata": {
        "id": "euKZIzkwbuJr"
      },
      "source": [
        "clf.score(testing_inputs, testing_classes)"
      ],
      "execution_count": null,
      "outputs": []
    },
    {
      "cell_type": "markdown",
      "metadata": {
        "id": "urD8uhM-buJs"
      },
      "source": [
        "Now instead of a single train/test split, use K-Fold cross validation to get a better measure of your model's accuracy (K=10). Hint: use model_selection.cross_val_score"
      ]
    },
    {
      "cell_type": "code",
      "metadata": {
        "id": "RXmFSj1GbuJs"
      },
      "source": [
        "from sklearn.model_selection import cross_val_score\n",
        "\n",
        "clf = DecisionTreeClassifier(random_state=1)\n",
        "\n",
        "cv_scores = cross_val_score(clf, all_features_scaled, all_classes, cv=10)\n",
        "\n",
        "cv_scores.mean()"
      ],
      "execution_count": null,
      "outputs": []
    },
    {
      "cell_type": "markdown",
      "metadata": {
        "id": "8XrV2uKzbuJt"
      },
      "source": [
        "Now try a RandomForestClassifier instead. Does it perform better?"
      ]
    },
    {
      "cell_type": "code",
      "metadata": {
        "id": "qMwRWqllbuJt"
      },
      "source": [
        "from sklearn.ensemble import RandomForestClassifier\n",
        "\n",
        "clf = RandomForestClassifier(n_estimators=10, random_state=1)\n",
        "cv_scores = cross_val_score(clf, all_features_scaled, all_classes, cv=10)\n",
        "\n",
        "cv_scores.mean()"
      ],
      "execution_count": null,
      "outputs": []
    },
    {
      "cell_type": "markdown",
      "metadata": {
        "id": "ap4KdNT6buJu"
      },
      "source": [
        "# SVM"
      ]
    },
    {
      "cell_type": "markdown",
      "metadata": {
        "id": "AgDIrZCMbuJu"
      },
      "source": [
        "Next try using svm.SVC with a linear kernel. How does it compare to the decision tree?"
      ]
    },
    {
      "cell_type": "code",
      "metadata": {
        "id": "xgBEP4sTbuJv"
      },
      "source": [
        "from sklearn import svm\n",
        "\n",
        "C = 1.0\n",
        "svc = svm.SVC(kernel='linear', C=C)"
      ],
      "execution_count": null,
      "outputs": []
    },
    {
      "cell_type": "code",
      "metadata": {
        "id": "6RbLNZCLbuJv"
      },
      "source": [
        "cv_scores = cross_val_score(svc, all_features_scaled, all_classes, cv=10)\n",
        "\n",
        "cv_scores.mean()"
      ],
      "execution_count": null,
      "outputs": []
    },
    {
      "cell_type": "markdown",
      "metadata": {
        "id": "VBTRXn2nbuJw"
      },
      "source": [
        "# KNN"
      ]
    },
    {
      "cell_type": "markdown",
      "metadata": {
        "id": "au5T43lSbuJw"
      },
      "source": [
        "How about K-Nearest-Neighbors? Hint: use neighbors. Start with a K of 10. K is an example of a hyperparameter - a parameter on the model itself which may need to be tuned for best results on your particular data set."
      ]
    },
    {
      "cell_type": "code",
      "metadata": {
        "id": "zO9puQe8buJw"
      },
      "source": [
        "from sklearn import neighbors\n",
        "\n",
        "clf = neighbors.KNeighborsClassifier(n_neighbors=10)\n",
        "cv_scores = cross_val_score(clf, all_features_scaled, all_classes, cv=10)\n",
        "\n",
        "cv_scores.mean()"
      ],
      "execution_count": null,
      "outputs": []
    },
    {
      "cell_type": "markdown",
      "metadata": {
        "id": "eGJFdwP6buJx"
      },
      "source": [
        "Choosing K is tricky, so we can't discard KNN until we've tried different values of K. Write a for loop to run KNN with K values ranging from 1 to 50 and see if K makes a substantial difference. Make a note of the best performance you could get out of KNN."
      ]
    },
    {
      "cell_type": "code",
      "metadata": {
        "id": "8nlDFpXzbuJx"
      },
      "source": [
        "for n in range(1, 50):\n",
        "    clf = neighbors.KNeighborsClassifier(n_neighbors=n)\n",
        "    cv_scores = cross_val_score(clf, all_features_scaled, all_classes, cv=10)\n",
        "    print (n, cv_scores.mean())"
      ],
      "execution_count": null,
      "outputs": []
    },
    {
      "cell_type": "markdown",
      "metadata": {
        "id": "USULezOobuJx"
      },
      "source": [
        "# Naive Bayes"
      ]
    },
    {
      "cell_type": "markdown",
      "metadata": {
        "id": "sshU2SzlbuJx"
      },
      "source": [
        "Now try naive_bayes.MultinomialNB. How does its accuracy stack up?"
      ]
    },
    {
      "cell_type": "code",
      "metadata": {
        "id": "iNK5GDzCbuJx"
      },
      "source": [
        "from sklearn.naive_bayes import MultinomialNB\n",
        "\n",
        "scaler = preprocessing.MinMaxScaler()\n",
        "all_features_minmax = scaler.fit_transform(all_features)\n",
        "\n",
        "clf = MultinomialNB()\n",
        "cv_scores = cross_val_score(clf, all_features_minmax, all_classes, cv=10)\n",
        "\n",
        "cv_scores.mean()"
      ],
      "execution_count": null,
      "outputs": []
    },
    {
      "cell_type": "markdown",
      "metadata": {
        "id": "WrhXtQTXbuJy"
      },
      "source": [
        "# Revisiting SVM"
      ]
    },
    {
      "cell_type": "markdown",
      "metadata": {
        "id": "IumDCNrmbuJy"
      },
      "source": [
        "svm.SVC may perform differently with different kernels. The choice of kernel is an example of a \"hyperparamter.\" Try the rbf, sigmoid, and poly kernels and see what the best-performing kernel is. Do we have a new winner?"
      ]
    },
    {
      "cell_type": "code",
      "metadata": {
        "id": "u2qOr9D8buJy"
      },
      "source": [
        "C = 1.0 #C is a regularization parameter that controls the trade off between the achieving a low training error and a low testing error\n",
        "svc = svm.SVC(kernel='rbf', C=C)\n",
        "cv_scores = cross_val_score(svc, all_features_scaled, all_classes, cv=10)\n",
        "cv_scores.mean()"
      ],
      "execution_count": null,
      "outputs": []
    },
    {
      "cell_type": "code",
      "metadata": {
        "id": "BiyoLYMGbuJz"
      },
      "source": [
        "C = 1.0\n",
        "svc = svm.SVC(kernel='sigmoid', C=C)\n",
        "cv_scores = cross_val_score(svc, all_features_scaled, all_classes, cv=10)\n",
        "cv_scores.mean()"
      ],
      "execution_count": null,
      "outputs": []
    },
    {
      "cell_type": "code",
      "metadata": {
        "id": "z6eUFtpdbuJz"
      },
      "source": [
        "C = 1.0\n",
        "svc = svm.SVC(kernel='poly', C=C)\n",
        "cv_scores = cross_val_score(svc, all_features_scaled, all_classes, cv=10)\n",
        "cv_scores.mean()"
      ],
      "execution_count": null,
      "outputs": []
    },
    {
      "cell_type": "markdown",
      "metadata": {
        "id": "t0afZvKAbuJz"
      },
      "source": [
        "# Logistic Regression"
      ]
    },
    {
      "cell_type": "markdown",
      "metadata": {
        "id": "Z6qs5ZwqbuJz"
      },
      "source": [
        "We've tried all these fancy techniques, but fundamentally this is just a binary classification problem. Try Logisitic Regression, which is a simple way to tackling this sort of thing."
      ]
    },
    {
      "cell_type": "code",
      "metadata": {
        "id": "i1C027ssbuJz"
      },
      "source": [
        "from sklearn.linear_model import LogisticRegression\n",
        "\n",
        "clf = LogisticRegression()\n",
        "cv_scores = cross_val_score(clf, all_features_scaled, all_classes, cv=10)\n",
        "cv_scores.mean()"
      ],
      "execution_count": null,
      "outputs": []
    },
    {
      "cell_type": "markdown",
      "metadata": {
        "id": "orrA9z7MbuJ0"
      },
      "source": [
        "# Neural Networks"
      ]
    },
    {
      "cell_type": "markdown",
      "metadata": {
        "id": "gWODsMfebuJ0"
      },
      "source": [
        " let's see if an artificial neural network can do even better. You can use Keras to set up a neural network with 1 binary output neuron and see how it performs. Don't be afraid to run a large number of epochs to train the model if necessary."
      ]
    },
    {
      "cell_type": "code",
      "metadata": {
        "id": "2wKNHENobuJ0"
      },
      "source": [
        "from tensorflow.keras.layers import Dense\n",
        "from tensorflow.keras.models import Sequential"
      ],
      "execution_count": null,
      "outputs": []
    },
    {
      "cell_type": "code",
      "metadata": {
        "id": "GRMGmKxEbuJ1"
      },
      "source": [
        "def create_model():\n",
        "    model = Sequential()\n",
        "    #4 feature inputs going into an 6-unit layer (more does not seem to help - in fact you can go down to 4)\n",
        "    model.add(Dense(6, input_dim=4, kernel_initializer='normal', activation='relu'))\n",
        "    # \"Deep learning\" turns out to be unnecessary - this additional hidden layer doesn't help either.\n",
        "    #model.add(Dense(4, kernel_initializer='normal', activation='relu'))\n",
        "    # Output layer with a binary classification (benign or malignant)\n",
        "    model.add(Dense(1, kernel_initializer='normal', activation='sigmoid'))\n",
        "    # Compile model; adam seemed to work best\n",
        "    model.compile(loss='binary_crossentropy', optimizer='adam', metrics=['accuracy'])\n",
        "    return model"
      ],
      "execution_count": null,
      "outputs": []
    },
    {
      "cell_type": "code",
      "metadata": {
        "id": "ZYXv6NUCbuJ1"
      },
      "source": [
        "from tensorflow.keras.wrappers.scikit_learn import KerasClassifier\n",
        "\n",
        "# Wrap our Keras model in an estimator compatible with scikit_learn\n",
        "estimator = KerasClassifier(build_fn=create_model, epochs=100, verbose=0)\n",
        "# Now we can use scikit_learn's cross_val_score to evaluate this model identically to the others\n",
        "cv_scores = cross_val_score(estimator, all_features_scaled, all_classes, cv=10)\n",
        "cv_scores.mean()"
      ],
      "execution_count": null,
      "outputs": []
    },
    {
      "cell_type": "markdown",
      "metadata": {
        "id": "7N_u5MxAbuJ2"
      },
      "source": [
        "# Do we have a winner?"
      ]
    },
    {
      "cell_type": "markdown",
      "metadata": {
        "id": "Rdua5DV2buJ2"
      },
      "source": [
        "Which model, and which choice of hyperparameters, performed the best? "
      ]
    },
    {
      "cell_type": "markdown",
      "metadata": {
        "id": "v2AMxFydbuJ2"
      },
      "source": [
        "# The only clear loser is decision trees! Every other algorithm could be tuned to produce comparable results with 79-80% accuracy."
      ]
    },
    {
      "cell_type": "markdown",
      "metadata": {
        "id": "45s5vXo2buJ3"
      },
      "source": [
        "Additional hyperparameter tuning, or different topologies of the multi-level perceptron might make a difference."
      ]
    }
  ]
}